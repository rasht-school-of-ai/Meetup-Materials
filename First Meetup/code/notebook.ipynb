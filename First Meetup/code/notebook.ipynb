{
 "cells": [
  {
   "cell_type": "markdown",
   "metadata": {
    "slideshow": {
     "slide_type": "slide"
    }
   },
   "source": [
    "# Recognizing Persian Digits"
   ]
  },
  {
   "cell_type": "markdown",
   "metadata": {
    "slideshow": {
     "slide_type": "slide"
    }
   },
   "source": [
    "## Introduction to problem\n",
    "Given images of Persian Digits with their labels, predict what is the digit inside each image:\n",
    "<img src=\"figs/persian_digits.PNG\" width=\"400px\" height=\"500px\">"
   ]
  },
  {
   "cell_type": "markdown",
   "metadata": {
    "slideshow": {
     "slide_type": "slide"
    }
   },
   "source": [
    "![digit_image](figs/8-Digit-Recognition.png)"
   ]
  },
  {
   "cell_type": "markdown",
   "metadata": {
    "slideshow": {
     "slide_type": "slide"
    }
   },
   "source": [
    "## Contents\n",
    "* Libraries & Constants\n",
    "* Machine Learning Categories\n",
    "* Algorithm Selection\n",
    "* Loading and Preprocessing \n",
    "* Model Impelemtation\n",
    "* Training\n",
    "* Model Evaluation\n",
    "* Prediction"
   ]
  },
  {
   "cell_type": "markdown",
   "metadata": {
    "slideshow": {
     "slide_type": "slide"
    }
   },
   "source": [
    "## Libraries & Constants"
   ]
  },
  {
   "cell_type": "code",
   "execution_count": 1,
   "metadata": {
    "slideshow": {
     "slide_type": "fragment"
    }
   },
   "outputs": [],
   "source": [
    "from __future__ import print_function\n",
    "\n",
    "import matplotlib.pyplot as plt\n",
    "import numpy as np\n",
    "import os\n",
    "import sys\n",
    "import tarfile\n",
    "import random\n",
    "import utils\n",
    "from PIL import Image\n",
    "import tensorflow as tf\n",
    "from IPython.display import display\n",
    "from scipy import ndimage\n",
    "from sklearn.linear_model import LogisticRegression\n",
    "from sklearn.model_selection import train_test_split\n",
    "from six.moves.urllib.request import urlretrieve\n",
    "from six.moves import cPickle as pickle\n",
    "%matplotlib inline"
   ]
  },
  {
   "cell_type": "code",
   "execution_count": 2,
   "metadata": {
    "slideshow": {
     "slide_type": "slide"
    }
   },
   "outputs": [],
   "source": [
    "root = './data/Digits/isolated digits/'\n",
    "prediction_root = './data/Digits/segmented digits/'\n",
    "binary_save_path = './binary_data/isolated digits/'\n",
    "model_save_path = './models/'\n",
    "num_labels= 10\n",
    "image_size = 28\n",
    "batch_size = 64\n",
    "epochs = 40\n",
    "hidden_layer_neurons = 15"
   ]
  },
  {
   "cell_type": "markdown",
   "metadata": {
    "slideshow": {
     "slide_type": "slide"
    }
   },
   "source": [
    "## Machine Learning Categories\n",
    "* Supervised Learning\n",
    "* Unsupervised Learning\n",
    "* Semi-supervised Learning\n",
    "* Reinforcement Learning"
   ]
  },
  {
   "cell_type": "markdown",
   "metadata": {
    "slideshow": {
     "slide_type": "slide"
    }
   },
   "source": [
    "## Algorithm Selection\n",
    "<ol>\n",
    "    <li>Linear Regression</li>\n",
    "    <li>Logistic Regression</li>\n",
    "    <li>Decision Tree</li>\n",
    "    <li>Neural Networks</li>\n",
    "    <li>Naive Bayes</li>\n",
    "    <li>SVM</li>\n",
    "    <li>kNN</li>\n",
    "    <li>Etc...</li>\n",
    "</ol>"
   ]
  },
  {
   "cell_type": "markdown",
   "metadata": {
    "slideshow": {
     "slide_type": "slide"
    }
   },
   "source": [
    "We choose neural networks because of:\n",
    "* Number of features: 28*28=784\n",
    "* Experiments showed that Neural Networks are good at classifying images\n",
    "![neural_network](figs/Neural-network-with-hidden-layer-for-MNIST-data.png)"
   ]
  },
  {
   "cell_type": "markdown",
   "metadata": {
    "slideshow": {
     "slide_type": "slide"
    }
   },
   "source": [
    "## Loading and Preprocessing Data\n",
    "First we will load and normalize data, then we resize all of the images in (28,28) size and save it to binary .npy file:\n",
    "<img src=\"figs/normalize.gif\" width=\"200px\" height=\"300px\" style=\"display: block;margin-left: auto;margin-right: auto;\">\n",
    "<img src=\"figs/prepro1.jpeg\" style=\"display: block;margin-left: auto;margin-right: auto;\">"
   ]
  },
  {
   "cell_type": "code",
   "execution_count": 3,
   "metadata": {
    "slideshow": {
     "slide_type": "slide"
    }
   },
   "outputs": [
    {
     "name": "stdout",
     "output_type": "stream",
     "text": [
      "./binary_data/isolated digits/0.npy already present - Loading Data.\n",
      "./binary_data/isolated digits/1.npy already present - Loading Data.\n",
      "./binary_data/isolated digits/2.npy already present - Loading Data.\n",
      "./binary_data/isolated digits/3.npy already present - Loading Data.\n",
      "./binary_data/isolated digits/4.npy already present - Loading Data.\n",
      "./binary_data/isolated digits/5.npy already present - Loading Data.\n",
      "./binary_data/isolated digits/6.npy already present - Loading Data.\n",
      "./binary_data/isolated digits/7.npy already present - Loading Data.\n",
      "./binary_data/isolated digits/8.npy already present - Loading Data.\n",
      "./binary_data/isolated digits/9.npy already present - Loading Data.\n"
     ]
    }
   ],
   "source": [
    "data_paths = utils.maybe_save(root,binary_save_path,image_size)"
   ]
  },
  {
   "cell_type": "markdown",
   "metadata": {
    "slideshow": {
     "slide_type": "slide"
    }
   },
   "source": [
    "Checking if data is Balanced across diffrent classes : "
   ]
  },
  {
   "cell_type": "code",
   "execution_count": 4,
   "metadata": {
    "slideshow": {
     "slide_type": "slide"
    }
   },
   "outputs": [
    {
     "data": {
      "image/png": "[encoded data removed]",
      "text/plain": [
       "<Figure size 432x288 with 1 Axes>"
      ]
     },
     "metadata": {
      "needs_background": "light"
     },
     "output_type": "display_data"
    }
   ],
   "source": [
    "def balancingCheck(data_folder) :\n",
    "    dictionary = {}\n",
    "    tmpList = None\n",
    "    for i,ds in enumerate(data_folder) :\n",
    "        dataset = np.load(ds)\n",
    "        dictionary[i] = len(dataset)\n",
    "    plt.bar(range(len(dictionary)), list(dictionary.values()), align='center')\n",
    "    plt.xticks(range(len(dictionary)), list(dictionary.keys()))\n",
    "    plt.show()\n",
    "balancingCheck(data_paths)"
   ]
  },
  {
   "cell_type": "markdown",
   "metadata": {
    "slideshow": {
     "slide_type": "slide"
    }
   },
   "source": [
    "As you see data is almost balanced over diffrent classes."
   ]
  },
  {
   "cell_type": "markdown",
   "metadata": {
    "slideshow": {
     "slide_type": "slide"
    }
   },
   "source": [
    "Merging and Creating Label for datasets :"
   ]
  },
  {
   "cell_type": "code",
   "execution_count": 5,
   "metadata": {
    "slideshow": {
     "slide_type": "fragment"
    }
   },
   "outputs": [],
   "source": [
    "def merge_datasets(data_paths) :    \n",
    "    data = np.concatenate([np.load(path) for path in data_paths],axis=0)\n",
    "    label = np.concatenate([[path[-5]]*len(np.load(path)) for i,path in enumerate(data_paths)])\n",
    "    return data,label\n",
    "data,labels = merge_datasets(data_paths)"
   ]
  },
  {
   "cell_type": "markdown",
   "metadata": {
    "slideshow": {
     "slide_type": "slide"
    }
   },
   "source": [
    "We should shuffle data:"
   ]
  },
  {
   "cell_type": "code",
   "execution_count": 6,
   "metadata": {
    "slideshow": {
     "slide_type": "fragment"
    }
   },
   "outputs": [],
   "source": [
    "def randomize(dataset, labels):\n",
    "    permutation = np.random.permutation(labels.shape[0])\n",
    "    shuffled_dataset = dataset[permutation,:,:]\n",
    "    shuffled_labels = labels[permutation]\n",
    "    return shuffled_dataset, shuffled_labels\n",
    "data,labels = randomize(data,labels)"
   ]
  },
  {
   "cell_type": "markdown",
   "metadata": {
    "slideshow": {
     "slide_type": "slide"
    }
   },
   "source": [
    "We want to make sure that data still looks good:"
   ]
  },
  {
   "cell_type": "code",
   "execution_count": 7,
   "metadata": {
    "slideshow": {
     "slide_type": "slide"
    }
   },
   "outputs": [
    {
     "data": {
      "image/png": "[encoded data removed]",
      "text/plain": [
       "<Figure size 432x288 with 10 Axes>"
      ]
     },
     "metadata": {
      "needs_background": "light"
     },
     "output_type": "display_data"
    }
   ],
   "source": [
    "def visualize(dataset,labels,size = 10) :\n",
    "    samples = np.random.randint(len(dataset),size=size)\n",
    "    for i,sample in enumerate(samples) :\n",
    "        plt.subplots_adjust(top=1.5)\n",
    "        plt.subplot(np.ceil(np.sqrt(size)),np.floor(np.sqrt(size)),1+i)\n",
    "        plt.axis('off')\n",
    "        plt.title(labels[sample])\n",
    "        plt.imshow(dataset[sample])\n",
    "visualize(data,labels,10)"
   ]
  },
  {
   "cell_type": "code",
   "execution_count": 8,
   "metadata": {
    "slideshow": {
     "slide_type": "slide"
    }
   },
   "outputs": [
    {
     "name": "stdout",
     "output_type": "stream",
     "text": [
      "shape of data : (9653, 784)\n",
      "shape of labels : (9653, 10)\n"
     ]
    }
   ],
   "source": [
    "def reformat(data,labels) :\n",
    "    data = np.array(data).reshape((-1,image_size*image_size)).astype(np.float32)\n",
    "    labels = (np.arange(num_labels) == labels[:,None].astype(np.float32))\n",
    "    return data,labels\n",
    "data,labels = reformat(data,labels)\n",
    "print('shape of data : {}'.format(data.shape))\n",
    "print('shape of labels : {}'.format(labels.shape))"
   ]
  },
  {
   "cell_type": "markdown",
   "metadata": {
    "slideshow": {
     "slide_type": "slide"
    }
   },
   "source": [
    "![train_validate_test](figs/train-validate-test.png)"
   ]
  },
  {
   "cell_type": "code",
   "execution_count": 9,
   "metadata": {
    "slideshow": {
     "slide_type": "slide"
    }
   },
   "outputs": [
    {
     "name": "stdout",
     "output_type": "stream",
     "text": [
      "train data shape: (6177, 784)\n",
      "train labels shape: (6177, 784)\n",
      "valid data shape : (1545, 784)\n",
      "valid labels shape: (1545, 10)\n",
      "test data shape : (1931, 784)\n",
      "test labels shape: (1931, 10)\n"
     ]
    }
   ],
   "source": [
    "def train_valid_test_spliter(data,labels) :\n",
    "    X_train, X_test, y_train, y_test = train_test_split(data, labels, test_size=0.2, random_state=1)\n",
    "    X_train, X_val, y_train, y_val = train_test_split(X_train, y_train, test_size=0.2, random_state=1)\n",
    "    return X_train,y_train,X_val,y_val,X_test,y_test\n",
    "X_train,y_train,X_val,y_val,X_test,y_test = train_valid_test_spliter(data,labels)\n",
    "print('train data shape: {}'.format(X_train.shape))\n",
    "print('train labels shape: {}'.format(X_train.shape))\n",
    "print('valid data shape : {}'.format(X_val.shape))\n",
    "print('valid labels shape: {}'.format(y_val.shape))\n",
    "print('test data shape : {}'.format(X_test.shape))\n",
    "print('test labels shape: {}'.format(y_test.shape))"
   ]
  },
  {
   "cell_type": "markdown",
   "metadata": {
    "slideshow": {
     "slide_type": "slide"
    }
   },
   "source": [
    "## Model Implementation"
   ]
  },
  {
   "cell_type": "code",
   "execution_count": 10,
   "metadata": {
    "slideshow": {
     "slide_type": "fragment"
    }
   },
   "outputs": [],
   "source": [
    "model = tf.keras.Sequential()\n",
    "model.add(tf.keras.layers.Dense(hidden_layer_neurons, activation='relu', input_shape=(image_size*image_size,)))\n",
    "model.add(tf.keras.layers.Dense(num_labels, activation='softmax'))\n",
    "model.compile(optimizer=tf.keras.optimizers.Adam(lr=1e-4), loss='categorical_crossentropy', metrics=['accuracy'])"
   ]
  },
  {
   "cell_type": "markdown",
   "metadata": {
    "slideshow": {
     "slide_type": "slide"
    }
   },
   "source": [
    "## Training"
   ]
  },
  {
   "cell_type": "code",
   "execution_count": 19,
   "metadata": {
    "slideshow": {
     "slide_type": "fragment"
    }
   },
   "outputs": [
    {
     "name": "stdout",
     "output_type": "stream",
     "text": [
      "Train on 6177 samples, validate on 1545 samples\n",
      "Epoch 1/40\n",
      "5120/6177 [=======================>......] - ETA: 0s - loss: 0.3377 - acc: 0.9109{'val_loss': 0.3498847692819089, 'val_acc': 0.9087378640776699, 'loss': 0.33815116498855124, 'acc': 0.9114456855886014}\n",
      "0\n",
      "6177/6177 [==============================] - 0s 56us/step - loss: 0.3382 - acc: 0.9114 - val_loss: 0.3499 - val_acc: 0.9087\n",
      "Epoch 2/40\n",
      "5568/6177 [==========================>...] - ETA: 0s - loss: 0.3333 - acc: 0.9106{'val_loss': 0.348442464526803, 'val_acc': 0.9061488673139159, 'loss': 0.3346867349293696, 'acc': 0.9106362311705352}\n",
      "1\n",
      "6177/6177 [==============================] - 0s 62us/step - loss: 0.3347 - acc: 0.9106 - val_loss: 0.3484 - val_acc: 0.9061\n",
      "Epoch 3/40\n",
      "5696/6177 [==========================>...] - ETA: 0s - loss: 0.3325 - acc: 0.9124{'val_loss': 0.34502619982344435, 'val_acc': 0.9093851132686084, 'loss': 0.3313438591928916, 'acc': 0.9125789219321451}\n",
      "2\n",
      "6177/6177 [==============================] - 0s 54us/step - loss: 0.3313 - acc: 0.9126 - val_loss: 0.3450 - val_acc: 0.9094\n",
      "Epoch 4/40\n",
      "6144/6177 [============================>.] - ETA: 0s - loss: 0.3282 - acc: 0.9137{'val_loss': 0.34097583779046453, 'val_acc': 0.9093851132686084, 'loss': 0.3274399391897909, 'acc': 0.9140359399309818}\n",
      "3\n",
      "6177/6177 [==============================] - 0s 59us/step - loss: 0.3274 - acc: 0.9140 - val_loss: 0.3410 - val_acc: 0.9094\n",
      "Epoch 5/40\n",
      "5184/6177 [========================>.....] - ETA: 0s - loss: 0.3259 - acc: 0.9111{'val_loss': 0.3378568579174554, 'val_acc': 0.9093851132686084, 'loss': 0.32443562995293235, 'acc': 0.9127408126729465}\n",
      "4\n",
      "logs: {'val_loss': 0.3378568579174554, 'val_acc': 0.9093851132686084, 'loss': 0.32443562995293235, 'acc': 0.9127408126729465}\n",
      "better acc on batch 4: 0.9086084142394821\n",
      "6177/6177 [==============================] - 1s 98us/step - loss: 0.3244 - acc: 0.9127 - val_loss: 0.3379 - val_acc: 0.9094\n",
      "Epoch 6/40\n",
      "5632/6177 [==========================>...] - ETA: 0s - loss: 0.3252 - acc: 0.9141{'val_loss': 0.3346259498576902, 'val_acc': 0.9106796116504854, 'loss': 0.3202883321788872, 'acc': 0.9148453941946568}\n",
      "5\n",
      "logs: {'val_loss': 0.3346259498576902, 'val_acc': 0.9106796116504854, 'loss': 0.3202883321788872, 'acc': 0.9148453941946568}\n",
      "better acc on batch 5: 0.9089967637540454\n",
      "6177/6177 [==============================] - 1s 105us/step - loss: 0.3203 - acc: 0.9148 - val_loss: 0.3346 - val_acc: 0.9107\n",
      "Epoch 7/40\n",
      "5952/6177 [===========================>..] - ETA: 0s - loss: 0.3177 - acc: 0.9160{'val_loss': 0.33204977420734355, 'val_acc': 0.9119741100323625, 'loss': 0.31783376956171294, 'acc': 0.9153310669960281}\n",
      "6\n",
      "logs: {'val_loss': 0.33204977420734355, 'val_acc': 0.9119741100323625, 'loss': 0.31783376956171294, 'acc': 0.9153310669960281}\n",
      "better acc on batch 6: 0.9101618122977346\n",
      "6177/6177 [==============================] - 1s 114us/step - loss: 0.3178 - acc: 0.9153 - val_loss: 0.3320 - val_acc: 0.9120\n",
      "Epoch 8/40\n",
      "5568/6177 [==========================>...] - ETA: 0s - loss: 0.3157 - acc: 0.9158{'val_loss': 0.3292543214887477, 'val_acc': 0.9119741100323625, 'loss': 0.31426159465546477, 'acc': 0.9158167396623069}\n",
      "7\n",
      "logs: {'val_loss': 0.3292543214887477, 'val_acc': 0.9119741100323625, 'loss': 0.31426159465546477, 'acc': 0.9158167396623069}\n",
      "better acc on batch 7: 0.9106796116504855\n",
      "6177/6177 [==============================] - 1s 122us/step - loss: 0.3143 - acc: 0.9158 - val_loss: 0.3293 - val_acc: 0.9120\n",
      "Epoch 9/40\n",
      "5696/6177 [==========================>...] - ETA: 0s - loss: 0.3084 - acc: 0.9166{'val_loss': 0.3248733385191766, 'val_acc': 0.912621359223301, 'loss': 0.31159456720509654, 'acc': 0.9151691761104849}\n",
      "8\n",
      "logs: {'val_loss': 0.3248733385191766, 'val_acc': 0.912621359223301, 'loss': 0.31159456720509654, 'acc': 0.9151691761104849}\n",
      "better acc on batch 8: 0.911326860841424\n",
      "6177/6177 [==============================] - 1s 108us/step - loss: 0.3116 - acc: 0.9152 - val_loss: 0.3249 - val_acc: 0.9126\n",
      "Epoch 10/40\n",
      "5760/6177 [==========================>...] - ETA: 0s - loss: 0.3056 - acc: 0.9161{'val_loss': 0.32338823194835564, 'val_acc': 0.9171521035598705, 'loss': 0.3089016784891373, 'acc': 0.9159786305574995}\n",
      "9\n",
      "logs: {'val_loss': 0.32338823194835564, 'val_acc': 0.9171521035598705, 'loss': 0.3089016784891373, 'acc': 0.9159786305574995}\n",
      "better acc on batch 9: 0.9128802588996765\n",
      "6177/6177 [==============================] - 1s 105us/step - loss: 0.3089 - acc: 0.9160 - val_loss: 0.3234 - val_acc: 0.9172\n",
      "Epoch 11/40\n",
      "5824/6177 [===========================>..] - ETA: 0s - loss: 0.3037 - acc: 0.9195{'val_loss': 0.32200221924720074, 'val_acc': 0.9100323624595469, 'loss': 0.30566453114960096, 'acc': 0.9190545572187786}\n",
      "10\n",
      "6177/6177 [==============================] - 0s 60us/step - loss: 0.3057 - acc: 0.9191 - val_loss: 0.3220 - val_acc: 0.9100\n",
      "Epoch 12/40\n",
      "5440/6177 [=========================>....] - ETA: 0s - loss: 0.3034 - acc: 0.9165{'val_loss': 0.3159185380515157, 'val_acc': 0.916504854368932, 'loss': 0.3030270160315626, 'acc': 0.9177594301151345}\n",
      "11\n",
      "logs: {'val_loss': 0.3159185380515157, 'val_acc': 0.916504854368932, 'loss': 0.3030270160315626, 'acc': 0.9177594301151345}\n",
      "better acc on batch 11: 0.9136569579288027\n",
      "6177/6177 [==============================] - 1s 108us/step - loss: 0.3030 - acc: 0.9178 - val_loss: 0.3159 - val_acc: 0.9165\n",
      "Epoch 13/40\n",
      "6016/6177 [============================>.] - ETA: 0s - loss: 0.3020 - acc: 0.9190{'val_loss': 0.31596371351129415, 'val_acc': 0.915210355987055, 'loss': 0.3011871082739902, 'acc': 0.9198640118008855}\n",
      "12\n",
      "logs: {'val_loss': 0.31596371351129415, 'val_acc': 0.915210355987055, 'loss': 0.3011871082739902, 'acc': 0.9198640118008855}\n",
      "better acc on batch 12: 0.9143042071197411\n",
      "6177/6177 [==============================] - 1s 100us/step - loss: 0.3012 - acc: 0.9199 - val_loss: 0.3160 - val_acc: 0.9152\n",
      "Epoch 14/40\n",
      "5248/6177 [========================>.....] - ETA: 0s - loss: 0.2974 - acc: 0.9192{'val_loss': 0.3157081153882746, 'val_acc': 0.915210355987055, 'loss': 0.2982134934920641, 'acc': 0.9195402298657586}\n",
      "13\n",
      "logs: {'val_loss': 0.3157081153882746, 'val_acc': 0.915210355987055, 'loss': 0.2982134934920641, 'acc': 0.9195402298657586}\n",
      "better acc on batch 13: 0.9148220064724919\n",
      "6177/6177 [==============================] - 1s 98us/step - loss: 0.2982 - acc: 0.9195 - val_loss: 0.3157 - val_acc: 0.9152\n",
      "Epoch 15/40\n",
      "5248/6177 [========================>.....] - ETA: 0s - loss: 0.2959 - acc: 0.9213{'val_loss': 0.3112343324330247, 'val_acc': 0.9171521035598705, 'loss': 0.2956764601268717, 'acc': 0.9209972480093369}\n",
      "14\n",
      "6177/6177 [==============================] - 0s 56us/step - loss: 0.2957 - acc: 0.9210 - val_loss: 0.3112 - val_acc: 0.9172\n",
      "Epoch 16/40\n",
      "5568/6177 [==========================>...] - ETA: 0s - loss: 0.2914 - acc: 0.9213{'val_loss': 0.3093789374461838, 'val_acc': 0.913915857605178, 'loss': 0.29261186854033017, 'acc': 0.9216448113874689}\n",
      "15\n",
      "logs: {'val_loss': 0.3093789374461838, 'val_acc': 0.913915857605178, 'loss': 0.29261186854033017, 'acc': 0.9216448113874689}\n",
      "better acc on batch 15: 0.9155987055016181\n",
      "6177/6177 [==============================] - 1s 96us/step - loss: 0.2926 - acc: 0.9216 - val_loss: 0.3094 - val_acc: 0.9139\n",
      "Epoch 17/40\n",
      "5184/6177 [========================>.....] - ETA: 0s - loss: 0.2874 - acc: 0.9234{'val_loss': 0.30679891780742163, 'val_acc': 0.919093851132686, 'loss': 0.29027317300552263, 'acc': 0.922454265824834}\n",
      "16\n",
      "logs: {'val_loss': 0.30679891780742163, 'val_acc': 0.919093851132686, 'loss': 0.29027317300552263, 'acc': 0.922454265824834}\n",
      "better acc on batch 16: 0.916116504854369\n",
      "6177/6177 [==============================] - 1s 105us/step - loss: 0.2903 - acc: 0.9225 - val_loss: 0.3068 - val_acc: 0.9191\n",
      "Epoch 18/40\n",
      "5760/6177 [==========================>...] - ETA: 0s - loss: 0.2885 - acc: 0.9222{'val_loss': 0.30648464835384515, 'val_acc': 0.915210355987055, 'loss': 0.2881096170421208, 'acc': 0.9229399384814635}\n",
      "17\n",
      "6177/6177 [==============================] - 0s 61us/step - loss: 0.2881 - acc: 0.9229 - val_loss: 0.3065 - val_acc: 0.9152\n",
      "Epoch 19/40\n",
      "6144/6177 [============================>.] - ETA: 0s - loss: 0.2854 - acc: 0.9232{'val_loss': 0.30485180369472814, 'val_acc': 0.9184466019417475, 'loss': 0.2862515165202919, 'acc': 0.9229399384621646}\n",
      "18\n",
      "logs: {'val_loss': 0.30485180369472814, 'val_acc': 0.9184466019417475, 'loss': 0.2862515165202919, 'acc': 0.9229399384621646}\n",
      "better acc on batch 18: 0.9167637540453073\n",
      "6177/6177 [==============================] - 1s 108us/step - loss: 0.2863 - acc: 0.9229 - val_loss: 0.3049 - val_acc: 0.9184\n",
      "Epoch 20/40\n",
      "6080/6177 [============================>.] - ETA: 0s - loss: 0.2841 - acc: 0.9235{'val_loss': 0.30170395972273495, 'val_acc': 0.919093851132686, 'loss': 0.2839362961402193, 'acc': 0.9232637203972915}\n",
      "19\n",
      "logs: {'val_loss': 0.30170395972273495, 'val_acc': 0.919093851132686, 'loss': 0.2839362961402193, 'acc': 0.9232637203972915}\n",
      "better acc on batch 19: 0.9171521035598704\n",
      "6177/6177 [==============================] - 1s 106us/step - loss: 0.2839 - acc: 0.9233 - val_loss: 0.3017 - val_acc: 0.9191\n",
      "Epoch 21/40\n",
      "5760/6177 [==========================>...] - ETA: 0s - loss: 0.2831 - acc: 0.9236{'val_loss': 0.3017182821208991, 'val_acc': 0.9216828478964402, 'loss': 0.28127564710331365, 'acc': 0.9247207383768292}\n",
      "20\n",
      "logs: {'val_loss': 0.3017182821208991, 'val_acc': 0.9216828478964402, 'loss': 0.28127564710331365, 'acc': 0.9247207383768292}\n",
      "better acc on batch 20: 0.9187055016181229\n",
      "6177/6177 [==============================] - 1s 102us/step - loss: 0.2813 - acc: 0.9247 - val_loss: 0.3017 - val_acc: 0.9217\n",
      "Epoch 22/40\n",
      "5504/6177 [=========================>....] - ETA: 0s - loss: 0.2810 - acc: 0.9259{'val_loss': 0.29800736032257574, 'val_acc': 0.9184466019417475, 'loss': 0.28009771104671044, 'acc': 0.9260158654515249}\n",
      "21\n",
      "6177/6177 [==============================] - 0s 54us/step - loss: 0.2801 - acc: 0.9260 - val_loss: 0.2980 - val_acc: 0.9184\n",
      "Epoch 23/40\n",
      "5376/6177 [=========================>....] - ETA: 0s - loss: 0.2770 - acc: 0.9249{'val_loss': 0.29944848223411535, 'val_acc': 0.917799352750809, 'loss': 0.2774957076079332, 'acc': 0.9248826290790328}\n",
      "22\n",
      "logs: {'val_loss': 0.29944848223411535, 'val_acc': 0.917799352750809, 'loss': 0.2774957076079332, 'acc': 0.9248826290790328}\n",
      "better acc on batch 22: 0.919093851132686\n",
      "6177/6177 [==============================] - 1s 98us/step - loss: 0.2775 - acc: 0.9249 - val_loss: 0.2994 - val_acc: 0.9178\n",
      "Epoch 24/40\n",
      "5184/6177 [========================>.....] - ETA: 0s - loss: 0.2808 - acc: 0.9236{'val_loss': 0.29405416406474066, 'val_acc': 0.920388349514563, 'loss': 0.27664298955601396, 'acc': 0.9258539745659818}\n",
      "23\n",
      "logs: {'val_loss': 0.29405416406474066, 'val_acc': 0.920388349514563, 'loss': 0.27664298955601396, 'acc': 0.9258539745659818}\n",
      "better acc on batch 23: 0.9194822006472492\n",
      "6177/6177 [==============================] - 1s 102us/step - loss: 0.2766 - acc: 0.9259 - val_loss: 0.2941 - val_acc: 0.9204\n",
      "Epoch 25/40\n",
      "5440/6177 [=========================>....] - ETA: 0s - loss: 0.2718 - acc: 0.9265{'val_loss': 0.2922617708787949, 'val_acc': 0.9223300970873787, 'loss': 0.2738186600757529, 'acc': 0.9260158654515249}\n",
      "24\n",
      "logs: {'val_loss': 0.2922617708787949, 'val_acc': 0.9223300970873787, 'loss': 0.2738186600757529, 'acc': 0.9260158654515249}\n",
      "better acc on batch 24: 0.9201294498381877\n",
      "6177/6177 [==============================] - 1s 108us/step - loss: 0.2738 - acc: 0.9260 - val_loss: 0.2923 - val_acc: 0.9223\n",
      "Epoch 26/40\n",
      "5248/6177 [========================>.....] - ETA: 0s - loss: 0.2720 - acc: 0.9287{'val_loss': 0.2936964393433629, 'val_acc': 0.9184466019417475, 'loss': 0.2721772923696498, 'acc': 0.9266634288296569}\n",
      "25\n",
      "6177/6177 [==============================] - 0s 55us/step - loss: 0.2722 - acc: 0.9267 - val_loss: 0.2937 - val_acc: 0.9184\n",
      "Epoch 27/40\n",
      "5248/6177 [========================>.....] - ETA: 0s - loss: 0.2778 - acc: 0.9253{'val_loss': 0.28702141449675206, 'val_acc': 0.920388349514563, 'loss': 0.27070585781940854, 'acc': 0.9265015381178039}\n",
      "26\n",
      "6177/6177 [==============================] - 0s 58us/step - loss: 0.2707 - acc: 0.9265 - val_loss: 0.2870 - val_acc: 0.9204\n",
      "Epoch 28/40\n",
      "6080/6177 [============================>.] - ETA: 0s - loss: 0.2688 - acc: 0.9276{'val_loss': 0.2873871282562855, 'val_acc': 0.9242718446601942, 'loss': 0.2684949508652402, 'acc': 0.9277966650381083}\n",
      "27\n",
      "logs: {'val_loss': 0.2873871282562855, 'val_acc': 0.9242718446601942, 'loss': 0.2684949508652402, 'acc': 0.9277966650381083}\n",
      "better acc on batch 27: 0.9211650485436893\n",
      "6177/6177 [==============================] - 1s 110us/step - loss: 0.2685 - acc: 0.9278 - val_loss: 0.2874 - val_acc: 0.9243\n",
      "Epoch 29/40\n",
      "5824/6177 [===========================>..] - ETA: 0s - loss: 0.2696 - acc: 0.9267{'val_loss': 0.2868477514550138, 'val_acc': 0.9236245954692557, 'loss': 0.267200400206395, 'acc': 0.9279585560876922}\n",
      "28\n",
      "logs: {'val_loss': 0.2868477514550138, 'val_acc': 0.9236245954692557, 'loss': 0.267200400206395, 'acc': 0.9279585560876922}\n",
      "better acc on batch 28: 0.9218122977346278\n",
      "6177/6177 [==============================] - 1s 112us/step - loss: 0.2672 - acc: 0.9280 - val_loss: 0.2868 - val_acc: 0.9236\n",
      "Epoch 30/40\n",
      "6016/6177 [============================>.] - ETA: 0s - loss: 0.2658 - acc: 0.9285{'val_loss': 0.2854610798910598, 'val_acc': 0.9216828478964402, 'loss': 0.2648903215845291, 'acc': 0.928929901400951}\n",
      "29\n",
      "6177/6177 [==============================] - 0s 59us/step - loss: 0.2649 - acc: 0.9289 - val_loss: 0.2855 - val_acc: 0.9217\n",
      "Epoch 31/40\n",
      "5888/6177 [===========================>..] - ETA: 0s - loss: 0.2653 - acc: 0.9290{'val_loss': 0.2851571309142128, 'val_acc': 0.9242718446601942, 'loss': 0.2636572357803289, 'acc': 0.9297393558286667}\n",
      "30\n",
      "logs: {'val_loss': 0.2851571309142128, 'val_acc': 0.9242718446601942, 'loss': 0.2636572357803289, 'acc': 0.9297393558286667}\n",
      "better acc on batch 30: 0.9228478964401294\n",
      "6177/6177 [==============================] - 1s 113us/step - loss: 0.2637 - acc: 0.9297 - val_loss: 0.2852 - val_acc: 0.9243\n",
      "Epoch 32/40\n",
      "5888/6177 [===========================>..] - ETA: 0s - loss: 0.2620 - acc: 0.9282{'val_loss': 0.2829411151436155, 'val_acc': 0.9216828478964402, 'loss': 0.2614857720165012, 'acc': 0.9287680103513672}\n",
      "31\n",
      "logs: {'val_loss': 0.2829411151436155, 'val_acc': 0.9216828478964402, 'loss': 0.2614857720165012, 'acc': 0.9287680103513672}\n",
      "better acc on batch 31: 0.9231067961165049\n",
      "6177/6177 [==============================] - 1s 110us/step - loss: 0.2615 - acc: 0.9288 - val_loss: 0.2829 - val_acc: 0.9217\n",
      "Epoch 33/40\n",
      "5440/6177 [=========================>....] - ETA: 0s - loss: 0.2575 - acc: 0.9292{'val_loss': 0.28303381987759985, 'val_acc': 0.9223300970873787, 'loss': 0.2596144452751387, 'acc': 0.928606119465824}\n",
      "32\n",
      "6177/6177 [==============================] - 0s 55us/step - loss: 0.2596 - acc: 0.9286 - val_loss: 0.2830 - val_acc: 0.9223\n",
      "Epoch 34/40\n",
      "5376/6177 [=========================>....] - ETA: 0s - loss: 0.2603 - acc: 0.9302{'val_loss': 0.2781448615600376, 'val_acc': 0.9275080906148867, 'loss': 0.25920688312802864, 'acc': 0.9292536831623879}\n",
      "33\n",
      "logs: {'val_loss': 0.2781448615600376, 'val_acc': 0.9275080906148867, 'loss': 0.25920688312802864, 'acc': 0.9292536831623879}\n",
      "better acc on batch 33: 0.9234951456310678\n",
      "6177/6177 [==============================] - 1s 107us/step - loss: 0.2592 - acc: 0.9293 - val_loss: 0.2781 - val_acc: 0.9275\n",
      "Epoch 35/40\n",
      "5248/6177 [========================>.....] - ETA: 0s - loss: 0.2598 - acc: 0.9312{'val_loss': 0.2784186652948941, 'val_acc': 0.9255663430420712, 'loss': 0.2580186683990354, 'acc': 0.9316820463007933}\n",
      "34\n",
      "logs: {'val_loss': 0.2784186652948941, 'val_acc': 0.9255663430420712, 'loss': 0.2580186683990354, 'acc': 0.9316820463007933}\n",
      "better acc on batch 34: 0.9242718446601941\n",
      "6177/6177 [==============================] - 1s 110us/step - loss: 0.2580 - acc: 0.9317 - val_loss: 0.2784 - val_acc: 0.9256\n",
      "Epoch 36/40\n",
      "5760/6177 [==========================>...] - ETA: 0s - loss: 0.2552 - acc: 0.9321{'val_loss': 0.27439801832811733, 'val_acc': 0.9281553398058252, 'loss': 0.2553266682284384, 'acc': 0.9320058280622301}\n",
      "35\n",
      "logs: {'val_loss': 0.27439801832811733, 'val_acc': 0.9281553398058252, 'loss': 0.2553266682284384, 'acc': 0.9320058280622301}\n",
      "better acc on batch 35: 0.9250485436893203\n",
      "6177/6177 [==============================] - 1s 124us/step - loss: 0.2553 - acc: 0.9320 - val_loss: 0.2744 - val_acc: 0.9282\n"
     ]
    },
    {
     "name": "stdout",
     "output_type": "stream",
     "text": [
      "Epoch 37/40\n",
      "5504/6177 [=========================>....] - ETA: 0s - loss: 0.2528 - acc: 0.9326{'val_loss': 0.27695815292184023, 'val_acc': 0.9223300970873787, 'loss': 0.25360576054106954, 'acc': 0.9315201555503424}\n",
      "36\n",
      "logs: {'val_loss': 0.27695815292184023, 'val_acc': 0.9223300970873787, 'loss': 0.25360576054106954, 'acc': 0.9315201555503424}\n",
      "better acc on batch 36: 0.9251779935275082\n",
      "6177/6177 [==============================] - 1s 126us/step - loss: 0.2536 - acc: 0.9315 - val_loss: 0.2770 - val_acc: 0.9223\n",
      "Epoch 38/40\n",
      "5888/6177 [===========================>..] - ETA: 0s - loss: 0.2541 - acc: 0.9324{'val_loss': 0.27453057362809535, 'val_acc': 0.9242718446601942, 'loss': 0.2531515199263466, 'acc': 0.9324915008829001}\n",
      "37\n",
      "logs: {'val_loss': 0.27453057362809535, 'val_acc': 0.9242718446601942, 'loss': 0.2531515199263466, 'acc': 0.9324915008829001}\n",
      "better acc on batch 37: 0.9255663430420711\n",
      "6177/6177 [==============================] - 1s 118us/step - loss: 0.2532 - acc: 0.9325 - val_loss: 0.2745 - val_acc: 0.9243\n",
      "Epoch 39/40\n",
      "5824/6177 [===========================>..] - ETA: 0s - loss: 0.2507 - acc: 0.9305{'val_loss': 0.27261368653535073, 'val_acc': 0.9288025889967637, 'loss': 0.2513109474037773, 'acc': 0.931196373798555}\n",
      "38\n",
      "logs: {'val_loss': 0.27261368653535073, 'val_acc': 0.9288025889967637, 'loss': 0.2513109474037773, 'acc': 0.931196373798555}\n",
      "better acc on batch 38: 0.9258252427184466\n",
      "6177/6177 [==============================] - 1s 114us/step - loss: 0.2513 - acc: 0.9312 - val_loss: 0.2726 - val_acc: 0.9288\n",
      "Epoch 40/40\n",
      "5312/6177 [========================>.....] - ETA: 0s - loss: 0.2448 - acc: 0.9332{'val_loss': 0.2759920265682307, 'val_acc': 0.9255663430420712, 'loss': 0.2499312154872722, 'acc': 0.9326533917587939}\n",
      "39\n",
      "6177/6177 [==============================] - 0s 55us/step - loss: 0.2499 - acc: 0.9327 - val_loss: 0.2760 - val_acc: 0.9256\n"
     ]
    }
   ],
   "source": [
    "history = model.fit(X_train,y_train,batch_size=batch_size,epochs=epochs,validation_data=(X_val,y_val),callbacks=callbacks)"
   ]
  },
  {
   "cell_type": "markdown",
   "metadata": {
    "slideshow": {
     "slide_type": "slide"
    }
   },
   "source": [
    "Visualizing the training and validation accuracy:"
   ]
  },
  {
   "cell_type": "code",
   "execution_count": 17,
   "metadata": {
    "slideshow": {
     "slide_type": "slide"
    }
   },
   "outputs": [
    {
     "data": {
      "text/plain": [
       "<matplotlib.legend.Legend at 0x2484a8fcf28>"
      ]
     },
     "execution_count": 17,
     "metadata": {},
     "output_type": "execute_result"
    },
    {
     "data": {
      "image/png": "[encoded data removed]",
      "text/plain": [
       "<Figure size 432x288 with 1 Axes>"
      ]
     },
     "metadata": {
      "needs_background": "light"
     },
     "output_type": "display_data"
    }
   ],
   "source": [
    "plt.plot(history.epoch, history.history['val_acc'], c='r')\n",
    "plt.plot(history.epoch, history.history['acc'], c='g')\n",
    "plt.title('Training & Validation Accuracy')\n",
    "plt.xlabel('Epoch Number')\n",
    "plt.ylabel('Accuracy')\n",
    "plt.legend(('Validation Accuracy', 'Training Accuracy'),\n",
    "           loc='lower right')"
   ]
  },
  {
   "cell_type": "markdown",
   "metadata": {
    "slideshow": {
     "slide_type": "slide"
    }
   },
   "source": [
    "## Model Evaluation"
   ]
  },
  {
   "cell_type": "code",
   "execution_count": 21,
   "metadata": {
    "slideshow": {
     "slide_type": "fragment"
    }
   },
   "outputs": [
    {
     "name": "stdout",
     "output_type": "stream",
     "text": [
      "1931/1931 [==============================] - ETA:  - 1s 276us/step\n",
      "Test Accuracy: %88.60693940345887\n",
      "Test Error: %11.393060596541133\n"
     ]
    }
   ],
   "source": [
    "scores = model.evaluate(X_test,y_test)\n",
    "print('Test Accuracy: %{}'.format(scores[1]*100))\n",
    "print(\"Test Error: %{}\".format(100 - scores[1]*100))\n"
   ]
  },
  {
   "cell_type": "markdown",
   "metadata": {
    "slideshow": {
     "slide_type": "slide"
    }
   },
   "source": [
    "## Prediction"
   ]
  },
  {
   "cell_type": "code",
   "execution_count": 31,
   "metadata": {
    "slideshow": {
     "slide_type": "slide"
    }
   },
   "outputs": [
    {
     "data": {
      "image/png": "[encoded data removed]",
      "text/plain": [
       "<Figure size 432x288 with 10 Axes>"
      ]
     },
     "metadata": {
      "needs_background": "light"
     },
     "output_type": "display_data"
    }
   ],
   "source": [
    "def predict_image(prediction_root,image_size,model) :\n",
    "    for i,path in enumerate(os.listdir(prediction_root)):\n",
    "        plt.subplots_adjust(top=1.5)\n",
    "        photoes_path = os.path.join(prediction_root,path)\n",
    "        photoes = os.listdir(photoes_path)\n",
    "        photo_path = np.random.choice(photoes)\n",
    "        processed_image = (np.array(Image.open(os.path.join(photoes_path, photo_path)).resize((image_size,image_size))).astype(float) - \n",
    "                            255.0 / 2) / 255.0\n",
    "        photo = np.array(Image.open(os.path.join(photoes_path,photo_path)).resize((image_size,image_size))).astype(np.float)\n",
    "        plt.subplot(np.ceil(np.sqrt(10)),np.floor(np.sqrt(10)),1+i)\n",
    "        plt.axis('off')\n",
    "        plt.title(np.argmax(model.predict(processed_image.reshape(1,image_size*image_size))))\n",
    "        plt.imshow(photo)\n",
    "predict_image(prediction_root,image_size,model)"
   ]
  }
 ],
 "metadata": {
  "celltoolbar": "Slideshow",
  "kernelspec": {
   "display_name": "Python 3",
   "language": "python",
   "name": "python3"
  },
  "language_info": {
   "codemirror_mode": {
    "name": "ipython",
    "version": 3
   },
   "file_extension": ".py",
   "mimetype": "text/x-python",
   "name": "python",
   "nbconvert_exporter": "python",
   "pygments_lexer": "ipython3",
   "version": "3.6.6"
  }
 },
 "nbformat": 4,
 "nbformat_minor": 2
}
