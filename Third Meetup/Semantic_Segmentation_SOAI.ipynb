{
  "nbformat": 4,
  "nbformat_minor": 0,
  "metadata": {
    "colab": {
      "name": "Semantic Segmentation - SOAI",
      "version": "0.3.2",
      "provenance": [],
      "collapsed_sections": [],
      "toc_visible": true
    },
    "kernelspec": {
      "name": "python3",
      "display_name": "Python 3"
    },
    "accelerator": "GPU"
  },
  "cells": [
    {
      "cell_type": "code",
      "metadata": {
        "id": "75WvJop8DRrY",
        "colab_type": "code",
        "colab": {}
      },
      "source": [
        "! git clone https://github.com/milesial/Pytorch-UNet.git\n",
        "! pip install pydensecrf\n",
        "% cd Pytorch-UNet/"
      ],
      "execution_count": 0,
      "outputs": []
    },
    {
      "cell_type": "markdown",
      "metadata": {
        "id": "3kUVE713EXum",
        "colab_type": "text"
      },
      "source": [
        "#### UPLOAD YOUR FILE USING COLAB GUI BUTTON"
      ]
    },
    {
      "cell_type": "code",
      "metadata": {
        "id": "DTQtFkuqEXAc",
        "colab_type": "code",
        "colab": {}
      },
      "source": [
        "%cd ..\n",
        "!mv car0.jpg Pytorch-UNet\n",
        "%cd Pytorch-UNet"
      ],
      "execution_count": 0,
      "outputs": []
    },
    {
      "cell_type": "code",
      "metadata": {
        "id": "aMrRmVrUDjWf",
        "colab_type": "code",
        "colab": {}
      },
      "source": [
        "!python predict.py -i car0.jpg -o output.jpg"
      ],
      "execution_count": 0,
      "outputs": []
    }
  ]
}